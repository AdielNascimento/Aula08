{
 "cells": [
  {
   "cell_type": "markdown",
   "metadata": {},
   "source": [
    "Adiel Dos Santos NAscimento - 201504940002"
   ]
  },
  {
   "cell_type": "code",
   "execution_count": 7,
   "metadata": {},
   "outputs": [
    {
     "name": "stdout",
     "output_type": "stream",
     "text": [
      "[2.995, 0.18999999999999995, 0.275, 0.2]\n",
      "[2.995 0.19  0.275 0.2  ]\n"
     ]
    }
   ],
   "source": [
    "import numpy as np\n",
    "\n",
    "a = np.array([[1,2,3,4],[0,5,6,7],[0,0,8,9],[0,0,0,10]])\n",
    "b = np.array([5,4,4,2])\n",
    "\n",
    "n = len(a)\n",
    "x = n*[0]\n",
    "x[n-1] = b[n-1]/a[n-1][n-1]\n",
    "for i in range(n-2,-1,-1):\n",
    "    s=0\n",
    "        \n",
    "    for j in range(i+1,n):\n",
    "        s = s + (a[i][j]*x[j])\n",
    "        x[i] = (b[i] - s) /a[i][i]\n",
    "\n",
    "\n",
    "print(x)\n",
    "print(np.linalg.solve(a,b))\n"
   ]
  },
  {
   "cell_type": "code",
   "execution_count": 15,
   "metadata": {},
   "outputs": [
    {
     "name": "stdout",
     "output_type": "stream",
     "text": [
      "Matriz inicial\n",
      "[[ 2  1 -3]\n",
      " [-1  3  2]\n",
      " [ 3  1 -3]]\n",
      "\n",
      "Matriz final\n",
      "[[ 2  1 -3]\n",
      " [ 0  3  0]\n",
      " [ 0  0  1]]\n"
     ]
    }
   ],
   "source": [
    "a = np.array([[2,(1),(-3)], [-1,3,(2)], [(3),(1),(-3)]])\n",
    "b = np.array([-1,12,0])\n",
    "\n",
    "print(\"Matriz inicial\")\n",
    "print(a)\n",
    "\n",
    "n = len(a)\n",
    "m = n*[0]\n",
    "    \n",
    "for k in range(0,n-1):\n",
    "    for i in range(k+1,n):\n",
    "        m = a[i][k]/a[k][k]\n",
    "        a[i][k]=0\n",
    "        for j in range(k+1,n):\n",
    "            a[i][j] = a[i][j] - (m*a[k][j])\n",
    "            b[i] = b[i] - (m*b[k])\n",
    "        \n",
    "\n",
    "\n",
    "print(\"\")\n",
    "print(\"Matriz final\")\n",
    "print(a)\n"
   ]
  }
 ],
 "metadata": {
  "kernelspec": {
   "display_name": "Python 3",
   "language": "python",
   "name": "python3"
  },
  "language_info": {
   "codemirror_mode": {
    "name": "ipython",
    "version": 3
   },
   "file_extension": ".py",
   "mimetype": "text/x-python",
   "name": "python",
   "nbconvert_exporter": "python",
   "pygments_lexer": "ipython3",
   "version": "3.7.0"
  }
 },
 "nbformat": 4,
 "nbformat_minor": 2
}
